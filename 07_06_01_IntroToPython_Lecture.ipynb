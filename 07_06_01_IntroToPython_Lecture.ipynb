{
  "nbformat": 4,
  "nbformat_minor": 0,
  "metadata": {
    "colab": {
      "name": "07/06 01-IntroToPython_Lecture.ipynb",
      "provenance": [],
      "collapsed_sections": [],
      "toc_visible": true,
      "include_colab_link": true
    },
    "kernelspec": {
      "display_name": "Python 3",
      "language": "python",
      "name": "python3"
    },
    "language_info": {
      "codemirror_mode": {
        "name": "ipython",
        "version": 3
      },
      "file_extension": ".py",
      "mimetype": "text/x-python",
      "name": "python",
      "nbconvert_exporter": "python",
      "pygments_lexer": "ipython3",
      "version": "3.7.6"
    }
  },
  "cells": [
    {
      "cell_type": "markdown",
      "metadata": {
        "id": "view-in-github",
        "colab_type": "text"
      },
      "source": [
        "<a href=\"https://colab.research.google.com/github/Tinaaaa1219/BA765_Intro-to-data-science/blob/main/07_06_01_IntroToPython_Lecture.ipynb\" target=\"_parent\"><img src=\"https://colab.research.google.com/assets/colab-badge.svg\" alt=\"Open In Colab\"/></a>"
      ]
    },
    {
      "cell_type": "markdown",
      "metadata": {
        "id": "zZnwr37ibmF7"
      },
      "source": [
        "# BA765: Programming for Data Science\n",
        "\n",
        "## Session 2 : Intro to Python \n",
        "\n",
        "**Summer 2021**\n",
        "\n",
        "July 8, 2021\n",
        "\n",
        "---"
      ]
    },
    {
      "cell_type": "markdown",
      "metadata": {
        "id": "Mu3UWtRqbmF_"
      },
      "source": [
        "### A very brief introduction to Python\n",
        "\n",
        "As [Wikipedia puts it](https://en.wikipedia.org/wiki/Python_(programming_language)), Python is an interpreted, high-level, general-purpose programming language. Python compels its user to follow a distinct style emphasizing code readability. The most apparent example is the use of whitespace indentation instead of brackets, braces, or heavy use of punctuation marks. It is a style that slowly grows on you. So, if you feel constrained by it, give Python a chance and you most likely will start enjoying it. Afterall, Python is the worlds most popular programming language [according to GitHub](http://pypl.github.io/PYPL.html).\n",
        "\n",
        "Being an open-source language it is being made more and more useful through all the immensity of libraries and modules that extend its functionality way beyond what comes built-in. Using these modules is often as easy as typing `import <module_name>`. On a different note, like any open-source project Python has its share of frivolous in-jokes, such as the one presented below. "
      ]
    },
    {
      "cell_type": "code",
      "metadata": {
        "id": "OpMmK-bEbmGA",
        "colab": {
          "base_uri": "https://localhost:8080/"
        },
        "outputId": "45b51902-a70f-4d45-f3cd-3e5e789c471d"
      },
      "source": [
        "import this"
      ],
      "execution_count": null,
      "outputs": [
        {
          "output_type": "stream",
          "name": "stdout",
          "text": [
            "The Zen of Python, by Tim Peters\n",
            "\n",
            "Beautiful is better than ugly.\n",
            "Explicit is better than implicit.\n",
            "Simple is better than complex.\n",
            "Complex is better than complicated.\n",
            "Flat is better than nested.\n",
            "Sparse is better than dense.\n",
            "Readability counts.\n",
            "Special cases aren't special enough to break the rules.\n",
            "Although practicality beats purity.\n",
            "Errors should never pass silently.\n",
            "Unless explicitly silenced.\n",
            "In the face of ambiguity, refuse the temptation to guess.\n",
            "There should be one-- and preferably only one --obvious way to do it.\n",
            "Although that way may not be obvious at first unless you're Dutch.\n",
            "Now is better than never.\n",
            "Although never is often better than *right* now.\n",
            "If the implementation is hard to explain, it's a bad idea.\n",
            "If the implementation is easy to explain, it may be a good idea.\n",
            "Namespaces are one honking great idea -- let's do more of those!\n"
          ]
        }
      ]
    },
    {
      "cell_type": "markdown",
      "source": [
        "* Python 是为可读性设计的，与英语有一些相似之处，并受到数学的影响。\n",
        "* Python 使用新行来完成命令，而不像通常使用分号或括号的其他编程语言。\n",
        "* Python 依赖缩进，使用空格来定义范围；例如循环、函数和类的范围。其他编程语言通常使用花括号来实现此目的。"
      ],
      "metadata": {
        "id": "Ly11dLpPZijf"
      }
    },
    {
      "cell_type": "markdown",
      "metadata": {
        "id": "YZLOT7aVbmGB"
      },
      "source": [
        "### 1. Some basic built-in python syntax and functions "
      ]
    },
    {
      "cell_type": "markdown",
      "metadata": {
        "id": "5izGXfp7yyDb"
      },
      "source": [
        "\n",
        "*   句点：英国英语（BrE）：Full Stop；美国英语（AmE）：Period，“ . ”\n",
        "*   问号：Question Mark，“ ? ”\n",
        "*   感叹号：Exclamation Mark，“ ! ”\n",
        "*   逗号：Comma，“ , ”\n",
        "*   冒号：Colon，“  : ”\n",
        "*   省略号：Ellipsis (众数：Ellipses)，“ ... ”\n",
        "*   分号：Semicolon，“ ; ”\n",
        "*   连字符：Hyphen，“ - ”\n",
        "*   连接号：En Dash，“ – ”\n",
        "*   破折号：Em Dash，“ — ”\n",
        "*   括号：Parentheses，\n",
        "    小括号（圆括号）“ ( ) ” （parenthesis; round brackets）；\n",
        "    中括号“ [ ] ”（square brackets）；\n",
        "    大括号“ { } ”（curly brackets; braces）\n",
        "*   引号：Quotation Marks，\\\n",
        "　　　双引号“ \" ”（quote）；\\\n",
        "　　　单引号“ ' ”（single quotation marks）\n",
        "*   缩写及所有格符号：Apostrophe，“ ' ”"
      ]
    },
    {
      "cell_type": "markdown",
      "metadata": {
        "id": "7AijFOYtQ-9R"
      },
      "source": [
        "#### 1.1 Hello, World!\n",
        "\n",
        "Let's start with the classic program that is traditionally used to introduce any language; printing the letters `Hello, World!` on the screen.\n",
        "\n",
        "Note that # character indicates a comment, that line is not executed!"
      ]
    },
    {
      "cell_type": "code",
      "metadata": {
        "id": "oT-p1YkareP0",
        "colab": {
          "base_uri": "https://localhost:8080/"
        },
        "outputId": "9790ab01-5eb0-449b-fcc5-89ff1706de8f"
      },
      "source": [
        "# Type-in \"Hello, World!\"\n",
        "print(\"Hello, World!\")"
      ],
      "execution_count": null,
      "outputs": [
        {
          "output_type": "stream",
          "text": [
            "Hello, World!\n"
          ],
          "name": "stdout"
        }
      ]
    },
    {
      "cell_type": "code",
      "metadata": {
        "id": "TtRBfW0EbmGD",
        "colab": {
          "base_uri": "https://localhost:8080/"
        },
        "outputId": "7985ab4e-4334-4a21-8735-1e20891d99ce"
      },
      "source": [
        "# print your name\n",
        "\n",
        "print(\"Yihan\")\n"
      ],
      "execution_count": null,
      "outputs": [
        {
          "output_type": "stream",
          "text": [
            "Yihan\n"
          ],
          "name": "stdout"
        }
      ]
    },
    {
      "cell_type": "markdown",
      "metadata": {
        "id": "ZTuSm37UbmGD"
      },
      "source": [
        "__________________________________________________________________________________________________________________________"
      ]
    },
    {
      "cell_type": "markdown",
      "metadata": {
        "id": "6Zl0cv4gbmGD"
      },
      "source": [
        "# 1.2 Python's basic data types\n",
        "\n",
        "Basic data types in python include:\n",
        "    \n",
        "- Boolean (bool)  \n",
        "    - example: True, False <br> <br>\n",
        "\n",
        "- Integer (int)  \n",
        "    - example: 2020 <br> <br>\n",
        "\n",
        "- Floating point (float)\n",
        "    - example: 32.56, 4.5e2 <br> <br>\n",
        "\n",
        "- Text string (str)  \n",
        "    - example: \"I\", 'love', '''Python'''  <br> <br>\n",
        "\n",
        "- List (list)\n",
        "    - example: ['Paris', 'Abuja', 'Hanoi', 2021] <br> <br>\n",
        "## ***Note***: python lists can contain values corresponding to **different data types**; <br>\n",
        "    but arrays in python can only contain values corresponding to same data type. <br>\n",
        "  \n",
        "    <br> <br>\n",
        "    \n",
        "- Tuple (tuple) \n",
        "    - example: (1,2,3,4) ; <br> Note: tuples are **immutable**  <br>\n",
        "     "
      ]
    },
    {
      "cell_type": "markdown",
      "metadata": {
        "id": "jDCy_VlBbmGD"
      },
      "source": [
        "There is a built-in python function `type()` that returns the type of the python object"
      ]
    },
    {
      "cell_type": "markdown",
      "metadata": {
        "id": "QRMWDpvpbmGE"
      },
      "source": [
        "**Simple exercise:**\n",
        "Write a few python objects: a boolean, an integer, a float, a string, a list, and a tuple, and use the built-in function `type()` to check if your python object is indeed what you expected. "
      ]
    },
    {
      "cell_type": "code",
      "metadata": {
        "id": "yOhtezlTbmGE",
        "colab": {
          "base_uri": "https://localhost:8080/"
        },
        "outputId": "a98adcd9-e705-40bb-99d6-41c78ec009da"
      },
      "source": [
        "# Example:\n",
        "# write a boolean\n",
        "x = False\n",
        "y = True\n",
        "print(x)\n",
        "y"
      ],
      "execution_count": null,
      "outputs": [
        {
          "output_type": "stream",
          "text": [
            "False\n"
          ],
          "name": "stdout"
        },
        {
          "output_type": "execute_result",
          "data": {
            "text/plain": [
              "True"
            ]
          },
          "metadata": {
            "tags": []
          },
          "execution_count": 1
        }
      ]
    },
    {
      "cell_type": "code",
      "metadata": {
        "id": "A6_vw6_VbmGF",
        "colab": {
          "base_uri": "https://localhost:8080/"
        },
        "outputId": "1689edfc-732f-4ec3-caa1-59d2d1545160"
      },
      "source": [
        "# Example:\n",
        "# use the \"type()\" built-in python function to check if the boolean value of the previous example is indeed boolean\n",
        "\n",
        "type(x)\n",
        "print(type(x))\n",
        "type(x)"
      ],
      "execution_count": null,
      "outputs": [
        {
          "output_type": "stream",
          "text": [
            "<class 'bool'>\n"
          ],
          "name": "stdout"
        },
        {
          "output_type": "execute_result",
          "data": {
            "text/plain": [
              "bool"
            ]
          },
          "metadata": {
            "tags": []
          },
          "execution_count": 2
        }
      ]
    },
    {
      "cell_type": "code",
      "metadata": {
        "id": "rCzaHBh4hGq2"
      },
      "source": [
        "#Handy feature: The question mark\n",
        "x=False\n",
        "x?"
      ],
      "execution_count": null,
      "outputs": []
    },
    {
      "cell_type": "code",
      "metadata": {
        "id": "ty6WWOjgbmGF",
        "colab": {
          "base_uri": "https://localhost:8080/"
        },
        "outputId": "92c6d53b-cff4-44a7-ef80-362ce7f50389"
      },
      "source": [
        "# write (and check) an integer\n",
        "x = 756\n",
        "type(x)"
      ],
      "execution_count": null,
      "outputs": [
        {
          "output_type": "execute_result",
          "data": {
            "text/plain": [
              "int"
            ]
          },
          "metadata": {
            "tags": []
          },
          "execution_count": 4
        }
      ]
    },
    {
      "cell_type": "code",
      "metadata": {
        "id": "KmvZAtu9bmGG",
        "colab": {
          "base_uri": "https://localhost:8080/"
        },
        "outputId": "0e3579e2-64bd-4a3c-e11b-bb1374c77c21"
      },
      "source": [
        "# write (and check) a float (real number)\n",
        "print(type(3.14e2))\n",
        "type(1.005)"
      ],
      "execution_count": null,
      "outputs": [
        {
          "output_type": "stream",
          "text": [
            "<class 'float'>\n"
          ],
          "name": "stdout"
        },
        {
          "output_type": "execute_result",
          "data": {
            "text/plain": [
              "float"
            ]
          },
          "metadata": {
            "tags": []
          },
          "execution_count": 5
        }
      ]
    },
    {
      "cell_type": "code",
      "metadata": {
        "id": "QpFZJA0p_g-G",
        "colab": {
          "base_uri": "https://localhost:8080/"
        },
        "outputId": "945f512a-52a5-4258-e333-faf5706074b7"
      },
      "source": [
        "%whos"
      ],
      "execution_count": null,
      "outputs": [
        {
          "output_type": "stream",
          "text": [
            "Variable   Type    Data/Info\n",
            "----------------------------\n",
            "x          int     756\n",
            "y          bool    True\n"
          ],
          "name": "stdout"
        }
      ]
    },
    {
      "cell_type": "markdown",
      "metadata": {
        "id": "HIfsbPgl_qdk"
      },
      "source": [
        "%whos is define what you define in your code(memory "
      ]
    },
    {
      "cell_type": "code",
      "metadata": {
        "id": "ZKzz6wHtbmGG",
        "colab": {
          "base_uri": "https://localhost:8080/"
        },
        "outputId": "8a303d15-814f-4c93-b73a-8f9cdaccd097"
      },
      "source": [
        "# write (and check) a string\n",
        "z = \"I Love Python\"\n",
        "type(z)"
      ],
      "execution_count": null,
      "outputs": [
        {
          "output_type": "execute_result",
          "data": {
            "text/plain": [
              "str"
            ]
          },
          "metadata": {
            "tags": []
          },
          "execution_count": 7
        }
      ]
    },
    {
      "cell_type": "code",
      "metadata": {
        "id": "p7asEOPIbmGG",
        "colab": {
          "base_uri": "https://localhost:8080/"
        },
        "outputId": "f645856b-646d-4431-8ed7-8d3dd3250a13"
      },
      "source": [
        "# write (and check) a list\n",
        "a = [x, y, z]\n",
        "a"
      ],
      "execution_count": null,
      "outputs": [
        {
          "output_type": "execute_result",
          "data": {
            "text/plain": [
              "[756, True, 'I Love Python']"
            ]
          },
          "metadata": {
            "tags": []
          },
          "execution_count": 8
        }
      ]
    },
    {
      "cell_type": "code",
      "metadata": {
        "colab": {
          "base_uri": "https://localhost:8080/"
        },
        "id": "jyhDaThIs7ZR",
        "outputId": "d4c4f2b4-8127-4dc3-d791-dbba50417d9a"
      },
      "source": [
        "type(a)"
      ],
      "execution_count": null,
      "outputs": [
        {
          "output_type": "execute_result",
          "data": {
            "text/plain": [
              "list"
            ]
          },
          "metadata": {
            "tags": []
          },
          "execution_count": 9
        }
      ]
    },
    {
      "cell_type": "code",
      "metadata": {
        "id": "Zexwj2nDbmGH",
        "colab": {
          "base_uri": "https://localhost:8080/"
        },
        "outputId": "e21e4c9f-cf14-4ebc-a4a6-e61878132333"
      },
      "source": [
        "# write (and check) a tuple\n",
        "b = a, x\n",
        "b"
      ],
      "execution_count": null,
      "outputs": [
        {
          "output_type": "execute_result",
          "data": {
            "text/plain": [
              "([756, True, 'I Love Python'], 756)"
            ]
          },
          "metadata": {
            "tags": []
          },
          "execution_count": 10
        }
      ]
    },
    {
      "cell_type": "code",
      "metadata": {
        "id": "4hI21W4lAjRD",
        "colab": {
          "base_uri": "https://localhost:8080/"
        },
        "outputId": "f0f99524-3df3-4332-d054-bf3e6a36d9fd"
      },
      "source": [
        "type(b)"
      ],
      "execution_count": null,
      "outputs": [
        {
          "output_type": "execute_result",
          "data": {
            "text/plain": [
              "tuple"
            ]
          },
          "metadata": {
            "tags": []
          },
          "execution_count": 11
        }
      ]
    },
    {
      "cell_type": "markdown",
      "metadata": {
        "id": "zmnE3LZJbmGH"
      },
      "source": [
        "__________________________________________________________________________________________________________________________"
      ]
    },
    {
      "cell_type": "markdown",
      "metadata": {
        "id": "u1zVoc1nrXDe"
      },
      "source": [
        "#  1.3 Variables: specifying data values in python\n",
        " \n"
      ]
    },
    {
      "cell_type": "markdown",
      "metadata": {
        "id": "74VVrcqtbmGI"
      },
      "source": [
        "***Example:***"
      ]
    },
    {
      "cell_type": "code",
      "metadata": {
        "id": "UNZEeYFcQ7al",
        "colab": {
          "base_uri": "https://localhost:8080/"
        },
        "outputId": "86ab3de5-9a71-475e-f6e4-ef51fa6fcc73"
      },
      "source": [
        "# Assigning strings to variables \n",
        "\n",
        "x = \"Hello\"\n",
        "y = \"World\"\n",
        "print(x)\n",
        "print(y)\n",
        "print(x, y)\n",
        "print(x, y, \"!\")\n",
        "#用'，'的方式格里每一个词 每个词和标点之间会有空格\n",
        "print(x, y + \"!\" +\"!\")\n",
        "print(x, y + \"!\")"
      ],
      "execution_count": null,
      "outputs": [
        {
          "output_type": "stream",
          "text": [
            "Hello\n",
            "World\n",
            "Hello World\n",
            "Hello World !\n",
            "Hello World!!\n",
            "Hello World!\n"
          ],
          "name": "stdout"
        }
      ]
    },
    {
      "cell_type": "code",
      "metadata": {
        "id": "sQAWHjuBbmGI",
        "colab": {
          "base_uri": "https://localhost:8080/"
        },
        "outputId": "c02bb169-b11a-4377-ddf4-f339b8b4c68c"
      },
      "source": [
        "# Assigning numerical values to variables\n",
        "\n",
        "num1 = 5\n",
        "num2 = 7\n",
        "\n",
        "print(num1 + num2)"
      ],
      "execution_count": null,
      "outputs": [
        {
          "output_type": "stream",
          "text": [
            "12\n"
          ],
          "name": "stdout"
        }
      ]
    },
    {
      "cell_type": "markdown",
      "metadata": {
        "id": "37V6NqvlbmGJ"
      },
      "source": [
        "**Naming variables in python**\n",
        "\n",
        "The rules:\n",
        "    \n",
        "- You can use lowercase letters (a through z)\n",
        "- You can use UPPERCASE letters (A through Z)\n",
        "- You can use digits (0 through 9)\n",
        "- You can use the underscore (_)\n",
        "- Names are case sensitive (boston, Boston, and BOSTON are different names)\n",
        "- Names must begin with a letter or an underscore, not a digit\n",
        "- Names that begin with an underscore are treated specially\n",
        "- Names cannot be one of python's reserved words. "
      ]
    },
    {
      "cell_type": "markdown",
      "metadata": {
        "id": "8IchboLGbmGK"
      },
      "source": [
        "##### Python's reserved words\n",
        "\n",
        "Python reserves some names to be keywords, please do not use these as names of your variables. Run the cell below to list all the reserved keywords."
      ]
    },
    {
      "cell_type": "code",
      "metadata": {
        "id": "grcX6dKzbmGK",
        "colab": {
          "base_uri": "https://localhost:8080/"
        },
        "outputId": "f8c223ec-e1d7-4864-b7e8-9227c5a4c990"
      },
      "source": [
        "from keyword import kwlist\n",
        "print(kwlist)"
      ],
      "execution_count": null,
      "outputs": [
        {
          "output_type": "stream",
          "text": [
            "['False', 'None', 'True', 'and', 'as', 'assert', 'async', 'await', 'break', 'class', 'continue', 'def', 'del', 'elif', 'else', 'except', 'finally', 'for', 'from', 'global', 'if', 'import', 'in', 'is', 'lambda', 'nonlocal', 'not', 'or', 'pass', 'raise', 'return', 'try', 'while', 'with', 'yield']\n"
          ],
          "name": "stdout"
        }
      ]
    },
    {
      "cell_type": "markdown",
      "metadata": {
        "id": "zzaZcdc5bmGK"
      },
      "source": [
        "______________________________________________________________________________________________________________________________"
      ]
    },
    {
      "cell_type": "markdown",
      "metadata": {
        "id": "Vl2EFaVgR-Sa"
      },
      "source": [
        "#### 1.4 Numerical Operations\n",
        "\n",
        "Python has the basic numerical operations that makes it a quick calculator -- **but** note that we will use more advanced, math specific libraries for our data science needs!"
      ]
    },
    {
      "cell_type": "markdown",
      "metadata": {
        "id": "Ix-_oUjybmGL"
      },
      "source": [
        "***Simple Exercise: run the following cells*** "
      ]
    },
    {
      "cell_type": "code",
      "metadata": {
        "id": "sjliqZo4SRxy"
      },
      "source": [
        "# Addition\n",
        "7 + 3"
      ],
      "execution_count": null,
      "outputs": []
    },
    {
      "cell_type": "code",
      "metadata": {
        "id": "zabeBzYWehvT"
      },
      "source": [
        "# Subtraction\n",
        "7 - 3"
      ],
      "execution_count": null,
      "outputs": []
    },
    {
      "cell_type": "code",
      "metadata": {
        "id": "T7bTAp_7eWBg"
      },
      "source": [
        "# Multiplication\n",
        "7 * 3"
      ],
      "execution_count": null,
      "outputs": []
    },
    {
      "cell_type": "code",
      "metadata": {
        "id": "HOP4jg9ceY0g"
      },
      "source": [
        "# Division (floating-point division or decimal division)\n",
        "7 / 3"
      ],
      "execution_count": null,
      "outputs": []
    },
    {
      "cell_type": "code",
      "metadata": {
        "id": "SnOs894kbmGM",
        "colab": {
          "base_uri": "https://localhost:8080/"
        },
        "outputId": "3ec7c434-c515-4936-a670-ac7e05e45f6d"
      },
      "source": [
        "# or, by assigning these numbers to variables\n",
        "\n",
        "x = 7\n",
        "\n",
        "y = 3\n",
        "\n",
        "z = x/y\n",
        "\n",
        "print(z)"
      ],
      "execution_count": null,
      "outputs": [
        {
          "output_type": "stream",
          "text": [
            "2.3333333333333335\n"
          ],
          "name": "stdout"
        }
      ]
    },
    {
      "cell_type": "code",
      "metadata": {
        "id": "KCx0ZFRGnwuE",
        "colab": {
          "base_uri": "https://localhost:8080/"
        },
        "outputId": "e7403e2a-de36-4446-da49-671d72e8c688"
      },
      "source": [
        "# Quotient from floor division (integer division or truncating division)\n",
        "7 // 3"
      ],
      "execution_count": null,
      "outputs": [
        {
          "output_type": "execute_result",
          "data": {
            "text/plain": [
              "2"
            ]
          },
          "metadata": {
            "tags": []
          },
          "execution_count": 15
        }
      ]
    },
    {
      "cell_type": "code",
      "metadata": {
        "id": "MrkGnEhLecCx",
        "colab": {
          "base_uri": "https://localhost:8080/"
        },
        "outputId": "b816311f-e719-430e-af95-993bd0ef70d6"
      },
      "source": [
        "# Modulo (remainder)\n",
        "7 % 3"
      ],
      "execution_count": null,
      "outputs": [
        {
          "output_type": "execute_result",
          "data": {
            "text/plain": [
              "1"
            ]
          },
          "metadata": {
            "tags": []
          },
          "execution_count": 16
        }
      ]
    },
    {
      "cell_type": "code",
      "metadata": {
        "id": "Z_Ts5ZwbfWz1",
        "colab": {
          "base_uri": "https://localhost:8080/"
        },
        "outputId": "dfdb8d4d-9176-4c7a-8806-3dcf81b0160f"
      },
      "source": [
        "# Power (Exponentiation)\n",
        "x = 2\n",
        "x ** 3"
      ],
      "execution_count": null,
      "outputs": [
        {
          "output_type": "execute_result",
          "data": {
            "text/plain": [
              "8"
            ]
          },
          "metadata": {
            "tags": []
          },
          "execution_count": 18
        }
      ]
    },
    {
      "cell_type": "markdown",
      "metadata": {
        "id": "lIVFBik0bmGN"
      },
      "source": [
        "______________________________________________________________________________________________________________________________\n"
      ]
    },
    {
      "cell_type": "markdown",
      "metadata": {
        "id": "3o1_POmUbmGO"
      },
      "source": [
        "**Exercise:** \n",
        "\n",
        "As of yesterday, there were 663,994 Covid-19 reported cases in Massachusetts (source: mass.gov). \n",
        "\n",
        "The population of Massachusetts is 6,892,503  (estimate, July 1, 2019, source: Wikipedia and Census.org). \n",
        "\n",
        "Use python as calculator to calculate the number of Covid-19 cases per million ($10^6$) population, in Massachusetts."
      ]
    },
    {
      "cell_type": "code",
      "metadata": {
        "id": "EukcnTQobmGO",
        "colab": {
          "base_uri": "https://localhost:8080/"
        },
        "outputId": "18e354d1-943b-41a4-a677-a4698c491859"
      },
      "source": [
        "# your code here\n",
        "(10e6 * 663994)/6892503\n"
      ],
      "execution_count": null,
      "outputs": [
        {
          "output_type": "execute_result",
          "data": {
            "text/plain": [
              "963356.8530909598"
            ]
          },
          "metadata": {
            "tags": []
          },
          "execution_count": 39
        }
      ]
    },
    {
      "cell_type": "code",
      "metadata": {
        "colab": {
          "base_uri": "https://localhost:8080/"
        },
        "id": "JwMjHZAERr4g",
        "outputId": "a0f5dc2e-9ca3-4a9c-f889-63106788d0b4"
      },
      "source": [
        "(663994/6892503) * 10e6"
      ],
      "execution_count": null,
      "outputs": [
        {
          "output_type": "execute_result",
          "data": {
            "text/plain": [
              "963356.8530909598"
            ]
          },
          "metadata": {
            "tags": []
          },
          "execution_count": 1
        }
      ]
    },
    {
      "cell_type": "markdown",
      "metadata": {
        "id": "vNZly0HHbmGO"
      },
      "source": [
        "___________________________________________________________________________________________________________________________"
      ]
    },
    {
      "cell_type": "markdown",
      "metadata": {
        "id": "QunDBW-kbmGO"
      },
      "source": [
        "#### 1.5 Python's comparison operators"
      ]
    },
    {
      "cell_type": "markdown",
      "metadata": {
        "id": "wTafyzTCbmGP"
      },
      "source": [
        "- Equality: ==\n",
        "\n",
        "- Inequality: !=\n",
        "\n",
        "- Less than: <\n",
        "\n",
        "- Less than or equal: <=\n",
        "\n",
        "- Greater than: >\n",
        "\n",
        "- Greater than or equal: >="
      ]
    },
    {
      "cell_type": "code",
      "metadata": {
        "id": "xyOAoU00lkXe",
        "colab": {
          "base_uri": "https://localhost:8080/"
        },
        "outputId": "e866310f-3d84-4866-db97-7fb34bd4624a"
      },
      "source": [
        "#Comparisons and boolean go well together\n",
        "# Try this - can you guess the result before running the code?\n",
        "a=True\n",
        "b=False\n",
        "d=(a==b)\n",
        "d==b"
      ],
      "execution_count": null,
      "outputs": [
        {
          "output_type": "execute_result",
          "data": {
            "text/plain": [
              "True"
            ]
          },
          "metadata": {
            "tags": []
          },
          "execution_count": 19
        }
      ]
    },
    {
      "cell_type": "code",
      "metadata": {
        "id": "KmD4cgCpmR_G",
        "colab": {
          "base_uri": "https://localhost:8080/"
        },
        "outputId": "f2d4a4f2-4f5d-4e5e-e790-86d2c8f65964"
      },
      "source": [
        "# EXERCISE: try TRUE or FALSE with numbers\n",
        "\n",
        "x1=3\n",
        "x2=4\n",
        "y1=5\n",
        "y2=2\n",
        "#y=1\n",
        "\n",
        "check=(x1+x2)==(y1+y2)\n",
        "if check:\n",
        "    print('Sum is equal to:', (x1+x2))\n",
        "else:\n",
        "    print('Error: sums not equal!')"
      ],
      "execution_count": null,
      "outputs": [
        {
          "output_type": "stream",
          "text": [
            "Sum is equal to: 7\n"
          ],
          "name": "stdout"
        }
      ]
    },
    {
      "cell_type": "code",
      "metadata": {
        "id": "9-2HfyXmmhLi",
        "colab": {
          "base_uri": "https://localhost:8080/"
        },
        "outputId": "cf9fde31-fac8-48e0-cb1d-1e5cde2862a4"
      },
      "source": [
        "# More logical operations - can you guess the result before running the code?\n",
        "x = 3\n",
        "y = 6\n",
        "print(x > y)\n",
        "print(y > x)\n",
        "print(x == y)\n",
        "print(y != x)"
      ],
      "execution_count": null,
      "outputs": [
        {
          "output_type": "stream",
          "text": [
            "False\n",
            "True\n",
            "False\n",
            "True\n"
          ],
          "name": "stdout"
        }
      ]
    },
    {
      "cell_type": "markdown",
      "metadata": {
        "id": "1EOn1c_mG4ph"
      },
      "source": [
        "!= means not equal"
      ]
    },
    {
      "cell_type": "markdown",
      "metadata": {
        "id": "1dp3uNv0fvI4"
      },
      "source": [
        "\n",
        "\n",
        "---\n",
        "\n"
      ]
    },
    {
      "cell_type": "markdown",
      "metadata": {
        "id": "Z6CJLM9kfNwr"
      },
      "source": [
        "#### 1.6 Strings\n",
        "Python strings are more than just some of characters, they are *objects* with functions"
      ]
    },
    {
      "cell_type": "code",
      "metadata": {
        "id": "0gZWKvXEfy-A",
        "colab": {
          "base_uri": "https://localhost:8080/",
          "height": 35
        },
        "outputId": "6faafbc4-f748-4142-8611-dea9ede000b9"
      },
      "source": [
        "\"This is a string\""
      ],
      "execution_count": null,
      "outputs": [
        {
          "output_type": "execute_result",
          "data": {
            "application/vnd.google.colaboratory.intrinsic+json": {
              "type": "string"
            },
            "text/plain": [
              "'This is a string'"
            ]
          },
          "metadata": {
            "tags": []
          },
          "execution_count": 21
        }
      ]
    },
    {
      "cell_type": "code",
      "metadata": {
        "colab": {
          "base_uri": "https://localhost:8080/"
        },
        "id": "mCaNFhVIgdcn",
        "outputId": "1bed0d0b-1190-46ad-b351-5330df4f3438"
      },
      "source": [
        "a=\"This is my string\"\n",
        "b='This is ALSO my string'\n",
        "c='''This, too, is MY String''' \n",
        "print(a)\n",
        "print(b)\n",
        "print(c)"
      ],
      "execution_count": null,
      "outputs": [
        {
          "output_type": "stream",
          "text": [
            "This is my string\n",
            "This is ALSO my string\n",
            "This, too, is MY String\n"
          ],
          "name": "stdout"
        }
      ]
    },
    {
      "cell_type": "markdown",
      "metadata": {
        "id": "y9s6gWuPg8v-"
      },
      "source": [
        "Let's use some of the methods of the string object, namely, `split`, `upper` and `lower`:"
      ]
    },
    {
      "cell_type": "code",
      "metadata": {
        "id": "lBDFy-Hdhnun",
        "colab": {
          "base_uri": "https://localhost:8080/"
        },
        "outputId": "dc730ece-55e3-4f18-a1b4-9a91ac0c759d"
      },
      "source": [
        "# split()\n",
        "a.split()"
      ],
      "execution_count": null,
      "outputs": [
        {
          "output_type": "execute_result",
          "data": {
            "text/plain": [
              "['This', 'is', 'my', 'string']"
            ]
          },
          "metadata": {
            "tags": []
          },
          "execution_count": 3
        }
      ]
    },
    {
      "cell_type": "code",
      "metadata": {
        "id": "_QIP3aylhsNe",
        "colab": {
          "base_uri": "https://localhost:8080/",
          "height": 35
        },
        "outputId": "93ddee77-dc1e-430a-9175-8255d5db2bef"
      },
      "source": [
        "b.upper()"
      ],
      "execution_count": null,
      "outputs": [
        {
          "output_type": "execute_result",
          "data": {
            "application/vnd.google.colaboratory.intrinsic+json": {
              "type": "string"
            },
            "text/plain": [
              "'THIS IS ALSO MY STRING'"
            ]
          },
          "metadata": {
            "tags": []
          },
          "execution_count": 4
        }
      ]
    },
    {
      "cell_type": "code",
      "metadata": {
        "id": "RkFNabgQhtlD",
        "colab": {
          "base_uri": "https://localhost:8080/",
          "height": 35
        },
        "outputId": "666ed651-5cd7-4097-870b-1ffe744ef374"
      },
      "source": [
        "c.lower()"
      ],
      "execution_count": null,
      "outputs": [
        {
          "output_type": "execute_result",
          "data": {
            "application/vnd.google.colaboratory.intrinsic+json": {
              "type": "string"
            },
            "text/plain": [
              "'this, too, is my string'"
            ]
          },
          "metadata": {
            "tags": []
          },
          "execution_count": 5
        }
      ]
    },
    {
      "cell_type": "code",
      "metadata": {
        "id": "fksTPAE17aXv",
        "colab": {
          "base_uri": "https://localhost:8080/"
        },
        "outputId": "6c20246b-76f0-4bc5-b9cd-28889d02780c"
      },
      "source": [
        "print(a.isalnum() , b.isnumeric())\n",
        "print(c.split())\n",
        "print(c.split(','))"
      ],
      "execution_count": null,
      "outputs": [
        {
          "output_type": "stream",
          "text": [
            "False False\n",
            "['This,', 'too,', 'is', 'MY', 'String']\n",
            "['This', ' too', ' is MY String']\n"
          ],
          "name": "stdout"
        }
      ]
    },
    {
      "cell_type": "code",
      "metadata": {
        "id": "YMHHFz6aMbk3"
      },
      "source": [
        "a.isalnum?\n",
        "#Return True if the string is an alpha-numeric string, False otherwise.\n",
        "#字母数字字符串-包括文字和数字的"
      ],
      "execution_count": null,
      "outputs": []
    },
    {
      "cell_type": "code",
      "metadata": {
        "id": "C6awVn9t06s-"
      },
      "source": [
        "?b.isnumeric\n",
        "#Return True if the string is a numeric string, False otherwise.\n",
        "#只有数字的"
      ],
      "execution_count": null,
      "outputs": []
    },
    {
      "cell_type": "markdown",
      "metadata": {
        "id": "MtTPXOk3h7m9"
      },
      "source": [
        "**Exercise**\n",
        "\n",
        "\n",
        "*   Define a string called course_number and set it to 765\n",
        "*   Define a string that is equal to \"Programming for Data Science\"\n",
        "*   Change the course title to upper and lower case\n",
        "\n"
      ]
    },
    {
      "cell_type": "code",
      "metadata": {
        "colab": {
          "base_uri": "https://localhost:8080/"
        },
        "id": "4VkvmmZLM_8f",
        "outputId": "c128e76a-6fb4-403b-f115-b4f0cb10d9ea"
      },
      "source": [
        "course_number = 765\n",
        "course_tittle= \"Programming for Data Science\"\n",
        "print(course_number)\n",
        "print(course_tittle)"
      ],
      "execution_count": null,
      "outputs": [
        {
          "output_type": "stream",
          "text": [
            "765\n",
            "Programming for Data Science\n"
          ],
          "name": "stdout"
        }
      ]
    },
    {
      "cell_type": "code",
      "metadata": {
        "colab": {
          "base_uri": "https://localhost:8080/",
          "height": 35
        },
        "id": "78t7TlYxNo2t",
        "outputId": "91c67b8b-0381-4fd5-9154-e3897670eeb1"
      },
      "source": [
        "course_tittle.upper()"
      ],
      "execution_count": null,
      "outputs": [
        {
          "output_type": "execute_result",
          "data": {
            "application/vnd.google.colaboratory.intrinsic+json": {
              "type": "string"
            },
            "text/plain": [
              "'PROGRAMMING FOR DATA SCIENCE'"
            ]
          },
          "metadata": {
            "tags": []
          },
          "execution_count": 25
        }
      ]
    },
    {
      "cell_type": "code",
      "metadata": {
        "colab": {
          "base_uri": "https://localhost:8080/",
          "height": 35
        },
        "id": "2nZkqHXfNb_p",
        "outputId": "09bcb21a-c0ce-4280-8cc5-96581b2d0a76"
      },
      "source": [
        "course_tittle.lower()"
      ],
      "execution_count": null,
      "outputs": [
        {
          "output_type": "execute_result",
          "data": {
            "application/vnd.google.colaboratory.intrinsic+json": {
              "type": "string"
            },
            "text/plain": [
              "'programming for data science'"
            ]
          },
          "metadata": {
            "tags": []
          },
          "execution_count": 26
        }
      ]
    },
    {
      "cell_type": "code",
      "metadata": {
        "colab": {
          "base_uri": "https://localhost:8080/"
        },
        "id": "_HpcQquWN8na",
        "outputId": "3838e35b-33fd-4f81-a734-b62dc4343ae0"
      },
      "source": [
        "course_number = 765\n",
        "course_tittle = \"Programming for Data Science\"\n",
        "print(course_tittle.upper())\n",
        "print(course_tittle.lower())"
      ],
      "execution_count": null,
      "outputs": [
        {
          "output_type": "stream",
          "text": [
            "PROGRAMMING FOR DATA SCIENCE\n",
            "programming for data science\n"
          ],
          "name": "stdout"
        }
      ]
    },
    {
      "cell_type": "markdown",
      "metadata": {
        "id": "AOezbWyrivwp"
      },
      "source": [
        "Another very useful function is `format()`:"
      ]
    },
    {
      "cell_type": "code",
      "metadata": {
        "id": "WK8Pf3T7iu4X",
        "colab": {
          "base_uri": "https://localhost:8080/",
          "height": 35
        },
        "outputId": "f0d83434-2ba3-4b79-e668-301cc4487171"
      },
      "source": [
        "num=765\n",
        "\"My favorite class at Questrom so far is BA{}\".format(num)\n",
        "# see that the curly brackets act like a placeholder"
      ],
      "execution_count": null,
      "outputs": [
        {
          "output_type": "execute_result",
          "data": {
            "application/vnd.google.colaboratory.intrinsic+json": {
              "type": "string"
            },
            "text/plain": [
              "'My favorite class at Questrom so far is BA765'"
            ]
          },
          "metadata": {},
          "execution_count": 1
        }
      ]
    },
    {
      "cell_type": "code",
      "metadata": {
        "id": "csghxipgb0lc",
        "outputId": "c0a3feee-7814-405c-847d-a18e593ec526",
        "colab": {
          "base_uri": "https://localhost:8080/",
          "height": 35
        }
      },
      "source": [
        "\"My favorite class at Questrom so far is BA{}.\".format(num)"
      ],
      "execution_count": null,
      "outputs": [
        {
          "output_type": "execute_result",
          "data": {
            "application/vnd.google.colaboratory.intrinsic+json": {
              "type": "string"
            },
            "text/plain": [
              "'My favorite class at Questrom so far is BA765.'"
            ]
          },
          "metadata": {},
          "execution_count": 2
        }
      ]
    },
    {
      "cell_type": "code",
      "metadata": {
        "id": "nW9uQmnb0s8y"
      },
      "source": [
        "? format\n",
        "# Return value.__format__(format_spec)\n",
        "\n",
        "#format_spec defaults to the empty string.\n",
        "#See the Format Specification Mini-Language section of help('FORMATTING') for details."
      ],
      "execution_count": null,
      "outputs": []
    },
    {
      "cell_type": "code",
      "metadata": {
        "id": "bmcJG2LojO7c",
        "colab": {
          "base_uri": "https://localhost:8080/"
        },
        "outputId": "10b6a36b-61e9-45b9-977d-540f8c67fc27"
      },
      "source": [
        "# We can use multiple curly brackets too:\n",
        "b1_start=7\n",
        "b2_start=1\n",
        "myString=\"Does this class start at {} am or {} pm??\".format(b1_start,b2_start)\n",
        "print(myString)"
      ],
      "execution_count": null,
      "outputs": [
        {
          "output_type": "stream",
          "text": [
            "Does this class start at 7 am or 1 pm??\n"
          ],
          "name": "stdout"
        }
      ]
    },
    {
      "cell_type": "markdown",
      "metadata": {
        "id": "eLH4lBf0jwgb"
      },
      "source": [
        "#### 1.7 Casting\n",
        "\n",
        "You might be familiar with the concept \"type casting\" but in Holywood it means something else, for us, it means casting a variable's type to something that is different than its original type:"
      ]
    },
    {
      "cell_type": "code",
      "metadata": {
        "id": "eqdd25htkInY",
        "colab": {
          "base_uri": "https://localhost:8080/"
        },
        "outputId": "5031c1f5-93ec-4232-e742-c7240d1296cf"
      },
      "source": [
        "x=2\n",
        "y=2.0\n",
        "print(type(x))\n",
        "print(type(y))"
      ],
      "execution_count": null,
      "outputs": [
        {
          "output_type": "stream",
          "text": [
            "<class 'int'>\n",
            "<class 'float'>\n"
          ],
          "name": "stdout"
        }
      ]
    },
    {
      "cell_type": "code",
      "metadata": {
        "id": "-_2_iLbjkOMH",
        "colab": {
          "base_uri": "https://localhost:8080/"
        },
        "outputId": "0478193d-ae5f-4975-947f-15ec0b871d21"
      },
      "source": [
        "# Cast x as float:\n",
        "float(x)"
      ],
      "execution_count": null,
      "outputs": [
        {
          "output_type": "execute_result",
          "data": {
            "text/plain": [
              "2.0"
            ]
          },
          "metadata": {
            "tags": []
          },
          "execution_count": 25
        }
      ]
    },
    {
      "cell_type": "code",
      "metadata": {
        "id": "wFpgFfsHkSgw",
        "colab": {
          "base_uri": "https://localhost:8080/"
        },
        "outputId": "3c0da297-ec9c-4f3b-b279-ef40c4c353eb"
      },
      "source": [
        "# Did we actually change the type of x? Try to find out:\n",
        "# your code here\n",
        "type(x)"
      ],
      "execution_count": null,
      "outputs": [
        {
          "output_type": "execute_result",
          "data": {
            "text/plain": [
              "int"
            ]
          },
          "metadata": {
            "tags": []
          },
          "execution_count": 26
        }
      ]
    },
    {
      "cell_type": "code",
      "metadata": {
        "id": "tbr7PfnlkhBy",
        "colab": {
          "base_uri": "https://localhost:8080/"
        },
        "outputId": "356de966-8b3e-4c67-8f7b-160c92aa526a"
      },
      "source": [
        "#Try to cast y as integer using int()\n",
        "int(y)"
      ],
      "execution_count": null,
      "outputs": [
        {
          "output_type": "execute_result",
          "data": {
            "text/plain": [
              "2"
            ]
          },
          "metadata": {
            "tags": []
          },
          "execution_count": 27
        }
      ]
    },
    {
      "cell_type": "code",
      "metadata": {
        "colab": {
          "base_uri": "https://localhost:8080/"
        },
        "id": "kaLZz3tR11Eg",
        "outputId": "483b12c7-9894-4eb6-bf50-ae5e4ced805f"
      },
      "source": [
        "type(y)"
      ],
      "execution_count": null,
      "outputs": [
        {
          "output_type": "execute_result",
          "data": {
            "text/plain": [
              "float"
            ]
          },
          "metadata": {
            "tags": []
          },
          "execution_count": 29
        }
      ]
    },
    {
      "cell_type": "code",
      "metadata": {
        "id": "A3JR0S8PkSbx",
        "colab": {
          "base_uri": "https://localhost:8080/"
        },
        "outputId": "733272f0-4556-4d41-be56-4ba4c8f6cb6a"
      },
      "source": [
        "#How about strings? Can we cast them to different types?\n",
        "z=\"python\"\n",
        "list(z)"
      ],
      "execution_count": null,
      "outputs": [
        {
          "output_type": "execute_result",
          "data": {
            "text/plain": [
              "['p', 'y', 't', 'h', 'o', 'n']"
            ]
          },
          "metadata": {
            "tags": []
          },
          "execution_count": 30
        }
      ]
    },
    {
      "cell_type": "code",
      "metadata": {
        "colab": {
          "base_uri": "https://localhost:8080/",
          "height": 35
        },
        "id": "SecWoSZCRhwJ",
        "outputId": "7a7c42ec-c218-4eea-dc87-f4ef49fdf487"
      },
      "source": [
        "t = True\n",
        "str(t)"
      ],
      "execution_count": null,
      "outputs": [
        {
          "output_type": "execute_result",
          "data": {
            "application/vnd.google.colaboratory.intrinsic+json": {
              "type": "string"
            },
            "text/plain": [
              "'True'"
            ]
          },
          "metadata": {
            "tags": []
          },
          "execution_count": 31
        }
      ]
    },
    {
      "cell_type": "code",
      "metadata": {
        "id": "CqrSncRdkonV",
        "colab": {
          "base_uri": "https://localhost:8080/"
        },
        "outputId": "e73edcaf-7eb5-453b-aefb-29db586abf5c"
      },
      "source": [
        "print(type(z))\n",
        "type(t)"
      ],
      "execution_count": null,
      "outputs": [
        {
          "output_type": "stream",
          "text": [
            "<class 'str'>\n"
          ],
          "name": "stdout"
        },
        {
          "output_type": "execute_result",
          "data": {
            "text/plain": [
              "bool"
            ]
          },
          "metadata": {
            "tags": []
          },
          "execution_count": 33
        }
      ]
    },
    {
      "cell_type": "markdown",
      "metadata": {
        "id": "PIGPTwNPk5fD"
      },
      "source": [
        "#### 1.8 Some notes:"
      ]
    },
    {
      "cell_type": "code",
      "metadata": {
        "id": "gicATf_r88rl",
        "colab": {
          "base_uri": "https://localhost:8080/",
          "height": 35
        },
        "outputId": "91ebc255-cf16-4d38-8bd5-58f202e70a5e"
      },
      "source": [
        "# It is good to know the version of python we use:\n",
        "import sys\n",
        "sys.version"
      ],
      "execution_count": null,
      "outputs": [
        {
          "output_type": "execute_result",
          "data": {
            "application/vnd.google.colaboratory.intrinsic+json": {
              "type": "string"
            },
            "text/plain": [
              "'3.7.10 (default, May  3 2021, 02:48:31) \\n[GCC 7.5.0]'"
            ]
          },
          "metadata": {
            "tags": []
          },
          "execution_count": 24
        }
      ]
    },
    {
      "cell_type": "code",
      "metadata": {
        "id": "n3MUUpCdlCX8",
        "colab": {
          "base_uri": "https://localhost:8080/"
        },
        "outputId": "487b49d9-21a0-49c5-ab48-8ab55aec7072"
      },
      "source": [
        "# We can assign multiple variables at once\n",
        "x,y,z = 3,3.33,\"BA765\"\n",
        "print(x,y,z)"
      ],
      "execution_count": 1,
      "outputs": [
        {
          "output_type": "stream",
          "name": "stdout",
          "text": [
            "3 3.33 BA765\n"
          ]
        }
      ]
    },
    {
      "cell_type": "code",
      "source": [
        "x,y,z = (3,3.33,\"BA765\")\n",
        "print(x,y,z)"
      ],
      "metadata": {
        "colab": {
          "base_uri": "https://localhost:8080/"
        },
        "id": "XSgyUGnpNSRu",
        "outputId": "c6c80d9b-775f-45be-ff9c-6c360b6b77cb"
      },
      "execution_count": 2,
      "outputs": [
        {
          "output_type": "stream",
          "name": "stdout",
          "text": [
            "3 3.33 BA765\n"
          ]
        }
      ]
    },
    {
      "cell_type": "code",
      "source": [
        "x,y,z = ['3','0'],3.33,\"BA765\"\n",
        "print(x,y,z)"
      ],
      "metadata": {
        "colab": {
          "base_uri": "https://localhost:8080/"
        },
        "id": "8ao7DyymNdZe",
        "outputId": "2ee8138a-6952-4572-a593-996f85df8b59"
      },
      "execution_count": 6,
      "outputs": [
        {
          "output_type": "stream",
          "name": "stdout",
          "text": [
            "['3', '0'] 3.33 BA765\n"
          ]
        }
      ]
    },
    {
      "cell_type": "code",
      "source": [
        "q=x,y,z\n",
        "q"
      ],
      "metadata": {
        "colab": {
          "base_uri": "https://localhost:8080/"
        },
        "id": "4nbhgv88Oc5d",
        "outputId": "5fec926a-7aa5-41b5-dd05-1fe651946971"
      },
      "execution_count": 7,
      "outputs": [
        {
          "output_type": "execute_result",
          "data": {
            "text/plain": [
              "(['3', '0'], 3.33, 'BA765')"
            ]
          },
          "metadata": {},
          "execution_count": 7
        }
      ]
    },
    {
      "cell_type": "code",
      "source": [
        "q=[x,y,z]\n",
        "q"
      ],
      "metadata": {
        "colab": {
          "base_uri": "https://localhost:8080/"
        },
        "id": "8gMTTECfOvxj",
        "outputId": "95381e15-13d8-479d-c44a-30f4cc705727"
      },
      "execution_count": 8,
      "outputs": [
        {
          "output_type": "execute_result",
          "data": {
            "text/plain": [
              "[['3', '0'], 3.33, 'BA765']"
            ]
          },
          "metadata": {},
          "execution_count": 8
        }
      ]
    },
    {
      "cell_type": "code",
      "metadata": {
        "id": "XOou6OBXlFcc",
        "colab": {
          "base_uri": "https://localhost:8080/"
        },
        "outputId": "8692bc53-f1ed-47d3-8cbd-954da7eeb3f8"
      },
      "source": [
        "#Using operations within print is allowed:\n",
        "print(x+y)\n",
        "print(z+\"!\")\n",
        "print(z,'!')"
      ],
      "execution_count": null,
      "outputs": [
        {
          "output_type": "stream",
          "text": [
            "6.33\n",
            "BA765!\n",
            "BA765 !\n"
          ],
          "name": "stdout"
        }
      ]
    },
    {
      "cell_type": "markdown",
      "metadata": {
        "id": "bI1yfs8NnTyG"
      },
      "source": [
        "#### 1.9 Doing math with python\n",
        "We will use the powerful numpy package for this purpose because it is very well optimized for common mathematical operations"
      ]
    },
    {
      "cell_type": "code",
      "metadata": {
        "id": "tDeRi_tanh5R"
      },
      "source": [
        "import numpy as np\n",
        "# Note that we have not only imported the package, but also gave it an alias"
      ],
      "execution_count": null,
      "outputs": []
    },
    {
      "cell_type": "code",
      "metadata": {
        "id": "Y_H9dAV7nwCT",
        "colab": {
          "base_uri": "https://localhost:8080/"
        },
        "outputId": "f10a11ca-5242-4c64-d35d-99facfa65856"
      },
      "source": [
        "np.pi"
      ],
      "execution_count": null,
      "outputs": [
        {
          "output_type": "execute_result",
          "data": {
            "text/plain": [
              "3.141592653589793"
            ]
          },
          "metadata": {
            "tags": []
          },
          "execution_count": 46
        }
      ]
    },
    {
      "cell_type": "code",
      "metadata": {
        "id": "AXxzAjzNnzmA",
        "colab": {
          "base_uri": "https://localhost:8080/"
        },
        "outputId": "a6e90a43-13d5-428b-e932-c78b9ad4b763"
      },
      "source": [
        "np.sqrt(625)"
      ],
      "execution_count": null,
      "outputs": [
        {
          "output_type": "execute_result",
          "data": {
            "text/plain": [
              "25.0"
            ]
          },
          "metadata": {
            "tags": []
          },
          "execution_count": 37
        }
      ]
    },
    {
      "cell_type": "code",
      "metadata": {
        "id": "Q5ZljkDh2OZh"
      },
      "source": [
        "?np.sqrt()\n",
        "# Return the non-negative square-root of an array, element-wise.\n",
        "# 求平方根"
      ],
      "execution_count": null,
      "outputs": []
    },
    {
      "cell_type": "code",
      "metadata": {
        "id": "ihKOa3O9n8LD",
        "colab": {
          "base_uri": "https://localhost:8080/"
        },
        "outputId": "a0bb9489-2ce4-4d19-a892-4601702860b7"
      },
      "source": [
        "np.sin(30.0/180.0*np.pi)"
      ],
      "execution_count": null,
      "outputs": [
        {
          "output_type": "execute_result",
          "data": {
            "text/plain": [
              "0.49999999999999994"
            ]
          },
          "metadata": {
            "tags": []
          },
          "execution_count": 28
        }
      ]
    },
    {
      "cell_type": "code",
      "metadata": {
        "id": "FkqYJiJ86BZR",
        "colab": {
          "base_uri": "https://localhost:8080/"
        },
        "outputId": "46cf6786-bde5-4255-8b3e-36aee1fa18f5"
      },
      "source": [
        "np.math.factorial(3)"
      ],
      "execution_count": null,
      "outputs": [
        {
          "output_type": "execute_result",
          "data": {
            "text/plain": [
              "6"
            ]
          },
          "metadata": {
            "tags": []
          },
          "execution_count": 52
        }
      ]
    },
    {
      "cell_type": "markdown",
      "source": [
        "factorial 阶乘"
      ],
      "metadata": {
        "id": "TdZwerMOPWvp"
      }
    },
    {
      "cell_type": "markdown",
      "metadata": {
        "id": "S3SXMOLJ65_T"
      },
      "source": [
        "##### Quick Exercise\n",
        "\n",
        "What is the difference between the # of days in the year and 5 factorial , squared, +1\n"
      ]
    },
    {
      "cell_type": "code",
      "metadata": {
        "id": "-u_LxEO57AJv",
        "colab": {
          "base_uri": "https://localhost:8080/"
        },
        "outputId": "db411257-cea3-48c9-bca1-299f2a0ad0c3"
      },
      "source": [
        "number_year = 365\n",
        "x = np.math.factorial(5)\n",
        "result = (number_year - x) **2 + 1\n",
        "result"
      ],
      "execution_count": null,
      "outputs": [
        {
          "output_type": "execute_result",
          "data": {
            "text/plain": [
              "60026"
            ]
          },
          "metadata": {
            "tags": []
          },
          "execution_count": 57
        }
      ]
    },
    {
      "cell_type": "code",
      "metadata": {
        "colab": {
          "base_uri": "https://localhost:8080/"
        },
        "id": "GLpL8OZ225Ml",
        "outputId": "0bec0726-1895-4441-83e8-8bfab4f95002"
      },
      "source": [
        "number_of_days_in_the_year = 365\n",
        "x = np.math.factorial(5)\n",
        "result = (number_of_days_in_the_year - x) **2 + 1\n",
        "result"
      ],
      "execution_count": null,
      "outputs": [
        {
          "output_type": "execute_result",
          "data": {
            "text/plain": [
              "60026"
            ]
          },
          "metadata": {
            "tags": []
          },
          "execution_count": 58
        }
      ]
    },
    {
      "cell_type": "code",
      "metadata": {
        "colab": {
          "base_uri": "https://localhost:8080/"
        },
        "id": "KhKpcfpm2zga",
        "outputId": "49c7c026-0c67-4f7f-c1be-24ff93fc7da7"
      },
      "source": [
        "number_of_year = 365\n",
        "x = np.math.factorial(5)\n",
        "difference = number_of_year - x\n",
        "result = (difference)**2 + 1\n",
        "result"
      ],
      "execution_count": null,
      "outputs": [
        {
          "output_type": "execute_result",
          "data": {
            "text/plain": [
              "60026"
            ]
          },
          "metadata": {
            "tags": []
          },
          "execution_count": 42
        }
      ]
    },
    {
      "cell_type": "markdown",
      "metadata": {
        "id": "9lt4kKueoOhe"
      },
      "source": [
        "\n",
        "\n",
        "---\n",
        "\n"
      ]
    },
    {
      "cell_type": "markdown",
      "metadata": {
        "id": "eUkeUYg-oP8h"
      },
      "source": [
        "#### Conclusions\n",
        "Hope you enjoyed your very first introduction to Python\n",
        "Now please go ahead and tackle the first lab exercises!"
      ]
    }
  ]
}