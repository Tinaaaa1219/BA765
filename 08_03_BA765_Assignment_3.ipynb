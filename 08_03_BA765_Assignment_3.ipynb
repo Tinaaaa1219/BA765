{
  "nbformat": 4,
  "nbformat_minor": 0,
  "metadata": {
    "colab": {
      "name": "08/03 BA765_Assignment_3.ipynb",
      "provenance": [],
      "include_colab_link": true
    },
    "kernelspec": {
      "name": "python3",
      "display_name": "Python 3"
    },
    "language_info": {
      "name": "python"
    }
  },
  "cells": [
    {
      "cell_type": "markdown",
      "metadata": {
        "id": "view-in-github",
        "colab_type": "text"
      },
      "source": [
        "<a href=\"https://colab.research.google.com/github/Tinaaaa1219/BA765_assignment1/blob/main/08_03_BA765_Assignment_3.ipynb\" target=\"_parent\"><img src=\"https://colab.research.google.com/assets/colab-badge.svg\" alt=\"Open In Colab\"/></a>"
      ]
    },
    {
      "cell_type": "markdown",
      "metadata": {
        "id": "4oc2lNgYCHAw"
      },
      "source": [
        "# Assignment 3\n",
        "\n",
        "Please read the instructions below carefully and if you have any questions, ask as soon as possible.\n",
        "\n",
        "Once you completed this assignment, upload the notebook to your GitHub repository (same one that you used for assignment 1) and export your work also as a3.py (with this name and format) and submit to QuestromTools course site.\n",
        "\n",
        "Scripts that do not execute correctly will not be graded. To make sure your submission can be successfully executed, try executing it on your local machine **as a script** before submission, e.g. with `python3 a3.py` or via your favorite IDE."
      ]
    },
    {
      "cell_type": "markdown",
      "metadata": {
        "id": "32upflRAB_cE"
      },
      "source": [
        "## The Business Problem:\n",
        "\n",
        "The newly constructed Encore Casino in Boston Harbor is evaluating the creation of a new table game involving dice.\n",
        "\n",
        "- The roll of a dice occurs a minimum of two times, but per the rules of the game, could require an additional 3rd roll.\n",
        "\n",
        "- A dice is defined as an entity that when rolled, it will return a single value between 1 and 6, often referred to as the face value.\n",
        "\n",
        "- The face values of 1,2,3,4,5,6 are all equally likely.\n",
        "\n",
        "The casino has found that the typical user joins a table with 10 credits, and are planning on charging a single credit for a play of the game.  \n",
        "\n",
        "Only one player can be at the table at a time.  \n",
        "\n",
        "They hired your analytics firm to better understand the risk of the proposed idea.\n",
        "\n",
        "The Rules:\n",
        "\n",
        "1. A game is initiated by rolling a dice, two seperate times, and recording the Grand Total, which is the sum of the first and second rolls.\n",
        "\n",
        "1. If the Grand Total after two rolls of the dice is less than or equal to 9, the dice **must be** rolled one more time, with the face value recorded and added to the Grand Total.\n",
        "\n",
        "1. If the Grand Total after two rolls of the dice is greater than 10, no more rolls of the dice will take place.\n",
        "\n",
        "1. In the event that the Grand Total is equal to 10, a 3rd roll can  conditionally take place based on player's decision. The business asks you to model player decision by a random process so that on average 90% of the time players choose a third roll. If a third roll takes place, add the face value of the roll to the Grand Total. Consequently, on average 10% of the time player model chooses not to roll, so the Grand Total is taken from the previous two rolls of the dice.\n",
        "\n",
        "Once the game has concluded, the proposed payout structure is as follows:\n",
        "\n",
        "- A Grand Total of 9 or less results in a loss for the user.  That is, no payout.\n",
        "- A Grand Total of 10 or 12 pays out 1 credit\n",
        "- A Grand Total of 13 pays out 2 credits\n",
        "- A Grand Total of 11, 14 or 15 results in a loss for the user.  That is, no payout.\n",
        "- A Grand Total of 16 pays out 5 credits\n",
        "\n",
        "The user must leave the table under one of two conditions:\n",
        "\n",
        "1.  They run out of credits\n",
        "1.  They have played the game 25 times.  \n",
        "\n",
        "\n",
        "Your Exercise:\n",
        "\n",
        "Create a class called `dice_game` and save your work in a python script (not a notebook!) called `a3.py`.\n",
        "\n",
        "Your class will allow the Casino to study the gameplay and assess its risk.\n",
        "\n",
        "Your class should have the following attributes:\n",
        "\n",
        "1. `players` which is an integer.  By default, this value should be 50 and internally represents the number of players the casino believes will play in a given day.\n",
        "\n",
        "2. `wallet` which is a list.  Each entry in `wallet` should itemize the player's final credits after attempting to play the dice game above.  A value of 0 represents they ran out of money, otherwise, the total credits remaining after 25 rounds of the game. By default, this list is empty.\n",
        "\n",
        "2.  `games_played` which is a list.  Each entry should itemize how many plays of the game occurred for a player sitting down at the table.  The maximum value for any entry in the list must be 25 (for maximum games played).  By default, this list is empty.\n",
        "\n",
        "Your class should have the following methods:\n",
        "\n",
        "1.  `simulate` which will simulate a session at the table for a number of players.  The number of players is defined by `players` attribute described above.\n",
        "1.  `avg_rounds` which will return an integer indicating the average rounds at the table for all `players`\n",
        "1.  `profit` which will return an integer indicating the net number of credits the Casino can expect to make or lose across the simulation of the game for all `players`"
      ]
    },
    {
      "cell_type": "code",
      "metadata": {
        "id": "Gwqg-OAewX6l"
      },
      "source": [
        "import numpy as np\n",
        "import random\n",
        "\n",
        "class dice_game():\n",
        "  '''A class of dice game with roll a dice'''\n",
        "  def __init__(self, players = 50, wallet =[], games_played = []):\n",
        "    self.players = players\n",
        "    self.wallet = wallet\n",
        "    self.games_played = games_played\n",
        "    self.rounds = 0 # Make sure it's from the beginning. Make sure it's the first time.\n",
        "\n",
        "  def simulate(self):\n",
        "    third_roll_prob = 0.9 #\n",
        "    games_played_max = 25 # Maximum 25 plays.\n",
        "    self.round = 0 # Make sure it's from the beginning. Make sure it's the first time.\n",
        "\n",
        "    for i in range(self.players):\n",
        "      # Give the initial credits and the number of play:\n",
        "      credits = 10\n",
        "      games_played = 0\n",
        "\n",
        "      for _ in range(games_played_max):\n",
        "        if credits <= 0:\n",
        "          credits = 0\n",
        "        else:\n",
        "          self.rounds += 2\n",
        "          credits -= 1\n",
        "          games_played += 1\n",
        "          first_roll = np.random.randint(1,7)\n",
        "          second_roll = np.random.randint(1,7)\n",
        "          Grand_Total = first_roll + second_roll\n",
        "\n",
        "          # Calculate the Grand Total for each case:\n",
        "          if Grand_Total <= 9:\n",
        "            third_roll = np.random.randint(1,7)\n",
        "            Grand_Total += third_roll\n",
        "            self.rounds += 1\n",
        "          elif Grand_Total == 10:\n",
        "            if np.random.choice([1,0], size = 1, p=[third_roll_prob, 1-third_roll_prob]):\n",
        "              third_roll = np.random.randint(1,7)\n",
        "              Grand_Total += third_roll\n",
        "              self.rounds += 1\n",
        "          # The credits for Grand Total in each case:\n",
        "          if Grand_Total == 10 or Grand_Total == 12:\n",
        "            credits += 1\n",
        "          elif Grand_Total == 13:\n",
        "            credits += 2\n",
        "          elif Grand_Total == 11 or Grand_Total == 14 or Grand_Total == 15:\n",
        "            credits += 0\n",
        "          elif Grand_Total == 16:\n",
        "            credits += 5\n",
        "          if Grand_Total <= 0:\n",
        "            break\n",
        "\n",
        "      # Append the wallet and games_played:\n",
        "      self.wallet.append(credits)\n",
        "      self.games_played.append(games_played)\n",
        "\n",
        "  def avg_rounds(self):\n",
        "    games_arr = np.array(self.games_played)\n",
        "    avgrounds = int(games_arr.mean())\n",
        "    return avgrounds\n",
        "\n",
        "  def profit(self):\n",
        "    avgprofit = [10-cr for cr in self.wallet]\n",
        "    games_arr = np.array(avgprofit)\n",
        "    profit = games_arr.sum()\n",
        "    return profit\n",
        "\n",
        "      "
      ],
      "execution_count": null,
      "outputs": []
    },
    {
      "cell_type": "code",
      "metadata": {
        "colab": {
          "base_uri": "https://localhost:8080/"
        },
        "id": "osVzpBSB2oOF",
        "outputId": "2235e15f-a259-45a5-9dab-000a78647ec7"
      },
      "source": [
        "d1=dice_game(50)\n",
        "d1.simulate()\n",
        "print(d1.avg_rounds())\n",
        "print(d1.profit())"
      ],
      "execution_count": null,
      "outputs": [
        {
          "output_type": "stream",
          "text": [
            "19\n",
            "452\n"
          ],
          "name": "stdout"
        }
      ]
    },
    {
      "cell_type": "code",
      "metadata": {
        "id": "e73Vkv7-VjP3"
      },
      "source": [
        "import numpy as np\n",
        "import random\n",
        "\n",
        "class dice_game():\n",
        "  '''A class of dice game with roll a dice'''\n",
        "  def __init__(self, players = 50, wallet =[], games_played = []):\n",
        "    self.players = players\n",
        "    self.wallet = wallet\n",
        "    self.games_played = games_played\n",
        "    self.rounds = 0 # Make sure it's from the beginning. Make sure it's the first time.\n",
        "\n",
        "  def simulate(self):\n",
        "    third_roll_prob = 0.9 #\n",
        "    self.round = 0 # Make sure it's from the beginning. Make sure it's the first time.\n",
        "\n",
        "    for i in range(self.players):\n",
        "      # Give the initial credits and the number of play:\n",
        "      credits = 10\n",
        "      games_played = 0\n",
        "      while credits > 0 and games_played < 25: # by using while loop\n",
        "          games_played += 1\n",
        "          credits -= 1\n",
        "          frist_roll = np.random.randint(1,7)\n",
        "          second_roll = np.random.randint(1,7)\n",
        "          Grand_Total = frist_roll + second_roll\n",
        "\n",
        "          # Calculate the Grand Total for each case:\n",
        "          if Grand_Total <= 9:\n",
        "            third_roll = np.random.randint(1,7)\n",
        "            Grand_Total += third_roll\n",
        "            self.rounds += 1\n",
        "          elif Grand_Total == 10:\n",
        "            if np.random.choice([1,0], size = 1, p=[third_roll_prob, 1-third_roll_prob]):\n",
        "              third_roll = np.random.randint(1,7)\n",
        "              Grand_Total += third_roll\n",
        "              self.rounds += 1\n",
        "          # The credits for Grand Total in each case:\n",
        "          if Grand_Total == 10 or Grand_Total == 12:\n",
        "            credits += 1\n",
        "          elif Grand_Total == 13:\n",
        "            credits += 2\n",
        "          elif Grand_Total == 11 or Grand_Total == 14 or Grand_Total == 15:\n",
        "            credits += 0\n",
        "          elif Grand_Total == 16:\n",
        "            credits += 5\n",
        "          if Grand_Total <= 0:\n",
        "            break\n",
        "\n",
        "      # Append the wallet and games_played:\n",
        "      self.wallet.append(credits)\n",
        "      self.games_played.append(games_played)\n",
        "\n",
        "  def avg_rounds(self):\n",
        "    games_arr = np.array(self.games_played)\n",
        "    avgrounds = int(games_arr.mean())\n",
        "    return avgrounds\n",
        "\n",
        "  def profit(self):\n",
        "    avgprofit = [10-cr for cr in self.wallet]\n",
        "    games_arr = np.array(avgprofit)\n",
        "    profit = games_arr.sum()\n",
        "    return profit\n",
        "\n",
        "      "
      ],
      "execution_count": null,
      "outputs": []
    },
    {
      "cell_type": "code",
      "metadata": {
        "colab": {
          "base_uri": "https://localhost:8080/"
        },
        "id": "SVvgzYmQTv5E",
        "outputId": "a11914bb-3d0c-43ff-e06f-dea3dabcf7a8"
      },
      "source": [
        "d1=dice_game(50)\n",
        "d1.simulate()\n",
        "print(d1.avg_rounds())\n",
        "print(d1.profit())"
      ],
      "execution_count": null,
      "outputs": [
        {
          "output_type": "stream",
          "text": [
            "17\n",
            "474\n"
          ],
          "name": "stdout"
        }
      ]
    }
  ]
}