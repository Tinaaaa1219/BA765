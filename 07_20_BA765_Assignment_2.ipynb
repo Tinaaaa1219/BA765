{
  "nbformat": 4,
  "nbformat_minor": 0,
  "metadata": {
    "colab": {
      "name": "07/20_BA765_Assignment_2.ipynb",
      "provenance": [],
      "collapsed_sections": [],
      "include_colab_link": true
    },
    "kernelspec": {
      "name": "python3",
      "display_name": "Python 3"
    }
  },
  "cells": [
    {
      "cell_type": "markdown",
      "metadata": {
        "id": "view-in-github",
        "colab_type": "text"
      },
      "source": [
        "<a href=\"https://colab.research.google.com/github/Tinaaaa1219/BA765_assignment1/blob/main/07_20_BA765_Assignment_2.ipynb\" target=\"_parent\"><img src=\"https://colab.research.google.com/assets/colab-badge.svg\" alt=\"Open In Colab\"/></a>"
      ]
    },
    {
      "cell_type": "markdown",
      "metadata": {
        "id": "mzv8h94p1lp9"
      },
      "source": [
        "# Assignment 2\n",
        "\n",
        "Complete the questions below by answering each question using the appropriate variable name. Do not change the variable names.  \n",
        "\n",
        "To keep the file sizes small, I provide you with very low volume of data, but this does not mean you should use visual inspection. For example, if the maximum value of a list is asked, find it via code, not via visual inspection. \n",
        "\n",
        "Once you completed this assignment, upload the notebook to your GitHub repository (same one that you used for assignment 1) and export your work also as `a2.py` (with this name and format) and submit to QuestromTools course site.\n",
        "\n",
        "ENJOY!"
      ]
    },
    {
      "cell_type": "markdown",
      "metadata": {
        "id": "81VWGDeE2Khh"
      },
      "source": [
        "# Question 1:\n"
      ]
    },
    {
      "cell_type": "code",
      "metadata": {
        "id": "6S3uH33EH4k6"
      },
      "source": [
        "# STARTER CODE\n",
        "\n",
        "# imports\n",
        "import requests\n",
        "\n",
        "# the URL\n",
        "URL = \"https://www.metaweather.com/api/location/search/?query=boston\"\n",
        "\n",
        "# the API response setup for this question\n",
        "resp = requests.get(URL).json()"
      ],
      "execution_count": null,
      "outputs": []
    },
    {
      "cell_type": "code",
      "metadata": {
        "id": "j3FboXPWBi3R"
      },
      "source": [
        "import requests\n",
        "URL = \"https://www.metaweather.com/api/location/search/?query=boston\"\n",
        "resp = requests.get(URL).json()"
      ],
      "execution_count": 20,
      "outputs": []
    },
    {
      "cell_type": "code",
      "metadata": {
        "id": "By9Oc7syIW4u",
        "colab": {
          "base_uri": "https://localhost:8080/"
        },
        "outputId": "db668315-b4ff-4208-fd7f-45d2217ff7cb"
      },
      "source": [
        "# Q1:  save a variable q1_1, which _extracts_ the dictionary from the variable resp provided\n",
        "#      to you in the starter code for Question 1\n",
        "q1_1 = resp[0]\n",
        "q1_1\n",
        "\n",
        "\n"
      ],
      "execution_count": 21,
      "outputs": [
        {
          "output_type": "execute_result",
          "data": {
            "text/plain": [
              "{'latt_long': '42.358631,-71.056702',\n",
              " 'location_type': 'City',\n",
              " 'title': 'Boston',\n",
              " 'woeid': 2367105}"
            ]
          },
          "metadata": {
            "tags": []
          },
          "execution_count": 21
        }
      ]
    },
    {
      "cell_type": "code",
      "metadata": {
        "id": "g-7uAzeFI0_f",
        "colab": {
          "base_uri": "https://localhost:8080/"
        },
        "outputId": "9822c78f-10dd-4165-fc49-771a9ae09baf"
      },
      "source": [
        "# Q2: In the variable q1_2, save the keys of the dictionary in q1 as a list\n",
        "q1_2 = list(q1_1.keys())\n",
        "q1_2\n"
      ],
      "execution_count": 22,
      "outputs": [
        {
          "output_type": "execute_result",
          "data": {
            "text/plain": [
              "['title', 'location_type', 'woeid', 'latt_long']"
            ]
          },
          "metadata": {
            "tags": []
          },
          "execution_count": 22
        }
      ]
    },
    {
      "cell_type": "code",
      "metadata": {
        "id": "hzwzYD3vI1H1",
        "colab": {
          "base_uri": "https://localhost:8080/"
        },
        "outputId": "329a5732-9af5-4e3c-b36a-da7de9302991"
      },
      "source": [
        "# Q3: extract the latitude (lat) and longitude (lng) from the dictionary\n",
        "#     Each value should be a float\n",
        "#     TIP: the dictionary key provides guidance on the order\n",
        "a = list(q1_1.values())[3]\n",
        "b = a.split(',')\n",
        "lat = b[0]\n",
        "lng = b[1]\n",
        "print(lat)\n",
        "print(lng)"
      ],
      "execution_count": 23,
      "outputs": [
        {
          "output_type": "stream",
          "text": [
            "42.358631\n",
            "-71.056702\n"
          ],
          "name": "stdout"
        }
      ]
    },
    {
      "cell_type": "code",
      "metadata": {
        "id": "QA6Y8ST_ECHF",
        "colab": {
          "base_uri": "https://localhost:8080/"
        },
        "outputId": "876983ec-bebc-441a-9c45-fbc52503da6a"
      },
      "source": [
        "a = q1_1['latt_long']\n",
        "print(len(a))\n",
        "lat = a[0:9]\n",
        "lng = a[10:21]\n",
        "print(lat)\n",
        "print(lng)"
      ],
      "execution_count": 25,
      "outputs": [
        {
          "output_type": "stream",
          "text": [
            "20\n",
            "42.358631\n",
            "-71.056702\n"
          ],
          "name": "stdout"
        }
      ]
    },
    {
      "cell_type": "code",
      "metadata": {
        "id": "qUsFGz-4I1LU",
        "colab": {
          "base_uri": "https://localhost:8080/"
        },
        "outputId": "07dbe47e-e513-47b5-a6f1-47de3411b0e7"
      },
      "source": [
        "# Q4: using the dictionary key woeid from q1, keep only the even numbers from the id\n",
        "#     save the values as seperate entries in a list. Save this list as the variable q1_4\n",
        "\n",
        "q1_4 = []\n",
        "number = q1_1['woeid']\n",
        "print(number)\n",
        "\n",
        "numbers = [2,3,6,7,1,0,5]\n",
        "\n",
        "while len(numbers) > 0:\n",
        "   number = numbers.pop()\n",
        "   if (number % 2==0):\n",
        "     q1_4.append(number)\n",
        "     print(number)\n"
      ],
      "execution_count": 26,
      "outputs": [
        {
          "output_type": "stream",
          "text": [
            "2367105\n",
            "0\n",
            "6\n",
            "2\n"
          ],
          "name": "stdout"
        }
      ]
    },
    {
      "cell_type": "code",
      "metadata": {
        "colab": {
          "base_uri": "https://localhost:8080/"
        },
        "id": "3uCBS01qGvbk",
        "outputId": "eea32e2f-2964-4e65-9394-64027e4fdb93"
      },
      "source": [
        "q1_4 = []\n",
        "number = q1_1['woeid']\n",
        "print(number)\n",
        "\n",
        "import random\n",
        "\n",
        "x = [2,3,6,7,1,0,5]\n",
        "a = random.choice(x)\n",
        "while a < 8:\n",
        "  print(a)\n",
        "  a += 2 "
      ],
      "execution_count": 27,
      "outputs": [
        {
          "output_type": "stream",
          "text": [
            "2367105\n",
            "2\n",
            "4\n",
            "6\n"
          ],
          "name": "stdout"
        }
      ]
    },
    {
      "cell_type": "markdown",
      "metadata": {
        "id": "WhPv5Ew0Mq-k"
      },
      "source": [
        "# Question 2\n",
        "\n",
        "You have been provided a file that can be read in with the following code:\n",
        "\n",
        "```\n",
        "import pickle\n",
        "with open('q2.pkl', 'rb') as file:\n",
        "  jokes = pickle.load(file)\n",
        "```\n",
        "\n",
        "In your session, `jokes` is a list of dictionaries.  You will use this object to answer the questions below.\n",
        "\n",
        "> Hint:  If you are using Google Colab, you will need to upload the `q2.pkl` file in your gDrive or to the Colab Sesssion. "
      ]
    },
    {
      "cell_type": "code",
      "metadata": {
        "colab": {
          "base_uri": "https://localhost:8080/"
        },
        "id": "vGARck8gKi9V",
        "outputId": "9985f046-119d-4d03-ba7e-761ed3fe88a6"
      },
      "source": [
        "import pickle\n",
        "with open('q2_updated.pkl', 'rb') as file:\n",
        "  jokes = pickle.load(file)\n",
        "  print(jokes)\n",
        "  print(type(jokes))\n",
        "  print(len(jokes))"
      ],
      "execution_count": 28,
      "outputs": [
        {
          "output_type": "stream",
          "text": [
            "[{'type': 'success', 'value': {'id': 100, 'joke': 'Chuck Norris grinds his coffee with his teeth and boils the water with his own rage.', 'categories': ['plain']}}, {'type': 'success', 'value': {'id': 150, 'joke': 'Superman once watched an episode of Walker, Texas Ranger. He then cried himself to sleep.', 'categories': ['dad joke']}}, {'type': 'success', 'value': {'id': 250, 'joke': 'The truth will set you free. Unless Chuck Norris has you, in which case, forget it buddy!', 'categories': ['bad joke']}}, {'type': 'success', 'value': {'id': 480, 'joke': 'The class object inherits from Chuck Norris', 'categories': ['nerdy']}}, {'type': 'success', 'value': {'id': 490, 'joke': \"Chuck Norris doesn't need to use AJAX because pages are too afraid to postback anyways.\", 'categories': ['nerdy']}}]\n",
            "<class 'list'>\n",
            "5\n"
          ],
          "name": "stdout"
        }
      ]
    },
    {
      "cell_type": "code",
      "metadata": {
        "id": "ZbHfSisTMC8A",
        "colab": {
          "base_uri": "https://localhost:8080/"
        },
        "outputId": "7a2fa57b-d860-4215-d55a-94b617b80977"
      },
      "source": [
        "# Q1:  q2_1 should represent a set of the values from the categories key.\n",
        "q2_1 = set()\n",
        "joke_values = []\n",
        "for i in jokes:\n",
        "  joke_values.append(i['value'])\n",
        "print(joke_values)\n",
        "\n",
        "for j in joke_values:\n",
        "  q2_1.add(j['categories'][0])\n",
        "print(q2_1)"
      ],
      "execution_count": 29,
      "outputs": [
        {
          "output_type": "stream",
          "text": [
            "[{'id': 100, 'joke': 'Chuck Norris grinds his coffee with his teeth and boils the water with his own rage.', 'categories': ['plain']}, {'id': 150, 'joke': 'Superman once watched an episode of Walker, Texas Ranger. He then cried himself to sleep.', 'categories': ['dad joke']}, {'id': 250, 'joke': 'The truth will set you free. Unless Chuck Norris has you, in which case, forget it buddy!', 'categories': ['bad joke']}, {'id': 480, 'joke': 'The class object inherits from Chuck Norris', 'categories': ['nerdy']}, {'id': 490, 'joke': \"Chuck Norris doesn't need to use AJAX because pages are too afraid to postback anyways.\", 'categories': ['nerdy']}]\n",
            "{'bad joke', 'nerdy', 'dad joke', 'plain'}\n"
          ],
          "name": "stdout"
        }
      ]
    },
    {
      "cell_type": "code",
      "metadata": {
        "id": "Wpc1ehwYN0bP",
        "colab": {
          "base_uri": "https://localhost:8080/"
        },
        "outputId": "e7d86cee-da21-4774-c1c5-1ff051cc4f19"
      },
      "source": [
        "# Q2: What is the largest value (max) across the key id.  Save this value as q2_2\n",
        "idls = []\n",
        "\n",
        "for k in joke_values:\n",
        "  idls.append(k['id'])\n",
        "print(idls)\n",
        "q2_2 = max(idls)\n",
        "print(q2_2)"
      ],
      "execution_count": 31,
      "outputs": [
        {
          "output_type": "stream",
          "text": [
            "[100, 150, 250, 480, 490]\n",
            "490\n"
          ],
          "name": "stdout"
        }
      ]
    },
    {
      "cell_type": "code",
      "metadata": {
        "id": "NDBlwbi3N0gY",
        "colab": {
          "base_uri": "https://localhost:8080/"
        },
        "outputId": "65f45a13-dce9-406b-c943-42ea7305545a"
      },
      "source": [
        "# Q3: Each entry of jokes has a joke key.  This is a sentence pulled randomly from an online jokes api.  \n",
        "#     Remove the following characters '.,!' (punctuation present in these jokes)\n",
        "#     Make the text lower case.\n",
        "#     Add each word in each entry as a key to a dictionary you store in the variable q2_3 below.\n",
        "#     The value for each key should represent the total number of times the word appeared across the jokes object\n",
        "#     Summary: q2_3 should be a dictionary of word:count pairs, where count is the number of times the word appeared\n",
        "#              across all entries of jokes in the joke key\n",
        "#     \n",
        "\n",
        "joke_keys = []\n",
        "lower_keys = []\n",
        "for i in joke_values:\n",
        "  joke_keys.append(i['joke'])\n",
        "\n",
        "for j in joke_keys:\n",
        "  lower_key = j.lower()\n",
        "  lower_keys.append(lower_key)\n",
        "\n",
        "punctuation = '.,!'\n",
        "joke_remove_punctuation = ''\n",
        "for k in joke_keys:\n",
        "  if k not in punctuation:\n",
        "    joke_remove_punctuation += k\n",
        "\n",
        "joke_split = joke_remove_punctuation.split()\n",
        "\n",
        "q2_3 = {}\n",
        "for l in joke_split:\n",
        "  q2_3[l] = joke_split.count(l)\n",
        "print(q2_3 )\n",
        "\n"
      ],
      "execution_count": 32,
      "outputs": [
        {
          "output_type": "stream",
          "text": [
            "{'Chuck': 3, 'Norris': 3, 'grinds': 1, 'his': 3, 'coffee': 1, 'with': 2, 'teeth': 1, 'and': 1, 'boils': 1, 'the': 1, 'water': 1, 'own': 1, 'rage.Superman': 1, 'once': 1, 'watched': 1, 'an': 1, 'episode': 1, 'of': 1, 'Walker,': 1, 'Texas': 1, 'Ranger.': 1, 'He': 1, 'then': 1, 'cried': 1, 'himself': 1, 'to': 3, 'sleep.The': 1, 'truth': 1, 'will': 1, 'set': 1, 'you': 1, 'free.': 1, 'Unless': 1, 'has': 1, 'you,': 1, 'in': 1, 'which': 1, 'case,': 1, 'forget': 1, 'it': 1, 'buddy!The': 1, 'class': 1, 'object': 1, 'inherits': 1, 'from': 1, 'NorrisChuck': 1, \"doesn't\": 1, 'need': 1, 'use': 1, 'AJAX': 1, 'because': 1, 'pages': 1, 'are': 1, 'too': 1, 'afraid': 1, 'postback': 1, 'anyways.': 1}\n"
          ],
          "name": "stdout"
        }
      ]
    },
    {
      "cell_type": "markdown",
      "metadata": {
        "id": "Y1PXAz_7y2ze"
      },
      "source": [
        "# Question 3\n",
        "\n",
        "Write a function called `guessing_game` that satisfies the following requirements:\n",
        "\n",
        "1.  When the function is called, the user is prompted to guess a word\n",
        "1.  The function, internally, will randomly choose a word for the game.  The population of word (the word list) is shown below.\n",
        "1.  If the user does not guess the proper word, the user should be prompted again to try another guess\n",
        "1.  The user is only allowed 3 guesses.  If the user fails to guess the chosen word after 3 attempts, the message `Sorry, the game is over.` should be printed to the screen.\n",
        "1.  If the user enters a word not part of the list below, the message `That word is not part of the vocabulary.` should be printed to the screen.  However, if this situation occurs during the 3rd failed guess, only the message in step 4 should be printed.\n",
        "1.  If the user correctly guesses the word, the message `Correct! Well Done.` should be printed on the screen.\n",
        "1.  If a string is not input by the user, the function should print `You did not guess a string, Game Over!` and end the game. You can use `string` package as in `string.ascii_letters` to guarantee that the entry is a string semantically.\n",
        "\n",
        "\n",
        "\n",
        "The word list that should be used by the function:\n",
        "\n",
        "- `numpy`\n",
        "- `seaborn`\n",
        "- `pandas`\n",
        "- `pantab`\n",
        "- `spacy`\n",
        "- `requests`\n",
        "- `tensorflow`\n",
        "\n"
      ]
    },
    {
      "cell_type": "code",
      "metadata": {
        "id": "YdSB88Mi3r3f",
        "colab": {
          "base_uri": "https://localhost:8080/"
        },
        "outputId": "4e802485-912d-4dec-86a7-136da1a97e27"
      },
      "source": [
        "# build your function below\n",
        "import random\n",
        "import numpy as np\n",
        "\n",
        "def guessing_game():\n",
        "  np.random.seed(1)\n",
        "  wordlist = ['numpy','seaborn','pandas','pantab','spacy','requests','tensorflow']\n",
        "\n",
        "  chance = 0\n",
        "  chance_max = 3\n",
        "\n",
        "  guess =  input(\"Guess a word: \")\n",
        "  actual = np.random.choice(wordlist,1)[0]\n",
        "  if type(guess) != (str):\n",
        "    print('You did not guess a string, Game Over!')\n",
        "  while chance <= 3:\n",
        "    if guess == actual:\n",
        "      print('Correct! Well Done.')\n",
        "      break\n",
        "    elif chance == 2:\n",
        "      print('Sorry, the game is over.')   \n",
        "      break \n",
        "    else:\n",
        "      print('That word is not part of the vocabulary.')\n",
        "      chance += 1\n",
        "      guess =  input(\"Guess a word: \")    \n",
        "guessing_game()"
      ],
      "execution_count": 34,
      "outputs": [
        {
          "output_type": "stream",
          "text": [
            "Guess a word: numpy\n",
            "That word is not part of the vocabulary.\n",
            "Guess a word: pandas\n",
            "That word is not part of the vocabulary.\n",
            "Guess a word: spacy\n",
            "Sorry, the game is over.\n"
          ],
          "name": "stdout"
        }
      ]
    }
  ]
}